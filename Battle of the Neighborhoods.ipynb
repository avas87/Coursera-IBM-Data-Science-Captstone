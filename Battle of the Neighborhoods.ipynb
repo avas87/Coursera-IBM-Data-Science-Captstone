{
 "cells": [
  {
   "cell_type": "markdown",
   "metadata": {
    "collapsed": true
   },
   "source": [
    "# Battle of the Neighborhoods - Week 1"
   ]
  },
  {
   "cell_type": "markdown",
   "metadata": {},
   "source": [
    "## Problem Background and Description"
   ]
  },
  {
   "cell_type": "markdown",
   "metadata": {},
   "source": [
    "In Module 3, we explored New York City and segmented and clustered their neighborhoods. New York is very diverse and is the financial capitals of the United States. It is known as the \"City that Never Sleeps\" and has many different aspects that it is known for around the world. One of which being Pizza. When it comes to opening a reastaurant having a great product does not equal success, location is extremely important. We will analyse what neighborhood would be the best option to open a new pizza place."
   ]
  },
  {
   "cell_type": "markdown",
   "metadata": {},
   "source": [
    "## Data"
   ]
  },
  {
   "cell_type": "markdown",
   "metadata": {},
   "source": [
    "Similarly to Module 3 I will utilize the Foursquare API and the neighborhood data to compare neighborhoods to see where there isn't an oversatration of pizza places and furthermore within those neighborhoods see what the average rating of pizza places is to show where a new pizza place has the best chance of suceeding."
   ]
  },
  {
   "cell_type": "code",
   "execution_count": null,
   "metadata": {},
   "outputs": [],
   "source": []
  }
 ],
 "metadata": {
  "kernelspec": {
   "display_name": "Python 3.6",
   "language": "python",
   "name": "python3"
  },
  "language_info": {
   "codemirror_mode": {
    "name": "ipython",
    "version": 3
   },
   "file_extension": ".py",
   "mimetype": "text/x-python",
   "name": "python",
   "nbconvert_exporter": "python",
   "pygments_lexer": "ipython3",
   "version": "3.6.8"
  }
 },
 "nbformat": 4,
 "nbformat_minor": 1
}
